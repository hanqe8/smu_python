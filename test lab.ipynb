#Question 1
PI = float(3.14)
radius = float(input("Radius of circle is: "))
area = PI * (radius ** 2)
circum = 2 * radius * PI
print(f"Area of circle of radius {radius} cm is {area} sq cm")
print(f"Cricumfrence of circle of radius {radius} cm is {circum} cm")
